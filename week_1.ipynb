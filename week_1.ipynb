{
 "cells": [
  {
   "cell_type": "code",
   "execution_count": 35,
   "metadata": {},
   "outputs": [],
   "source": [
    "import numpy as np\n",
    "import nashpy as nash\n",
    "import random"
   ]
  },
  {
   "cell_type": "code",
   "execution_count": 4,
   "metadata": {},
   "outputs": [],
   "source": [
    "class Player:\n",
    "    def __init__(self, attributes, strategies):\n",
    "        self.attributes = attributes\n",
    "        self.strategies = strategies"
   ]
  },
  {
   "cell_type": "code",
   "execution_count": 56,
   "metadata": {},
   "outputs": [],
   "source": [
    "class NormalFormGame:\n",
    "    def __init__(self, player1_strat, player2_strat, payoff_matrix):\n",
    "\n",
    "        self.player1_strategy = player1_strat\n",
    "        self.player2_strategy = player2_strat\n",
    "\n",
    "        self.payoff_matrix = payoff_matrix\n",
    "        self.game = nash.Game(payoff_matrix[:,:,0], payoff_matrix[:,:,1])\n",
    "    \n",
    "    # Gets mixed strategy nash equillibria and prints them out\n",
    "    # Didn't think this was useful for now, so just prepared it incase needed\n",
    "    def getEquillibria(self):\n",
    "        for eq in self.game.support_enumeration():\n",
    "            print(eq)\n",
    "\n",
    "    # Uses the distribution to determine the outcome, can simulate both pure and mixed strategies effectively \n",
    "    def simulateGame(self):\n",
    "        index1 = random.choices(range(len(self.player1_strategy)), self.player1_strategy)[0]\n",
    "        index2 = random.choices(range(len(self.player2_strategy)), self.player2_strategy)[0]\n",
    "        \n",
    "        payoff1 = self.payoff_matrix[index1, index2, 0]\n",
    "        payoff2 = self.payoff_matrix[index1, index2, 1]\n",
    "\n",
    "        return np.array([payoff1, payoff2])\n",
    "\n"
   ]
  },
  {
   "cell_type": "code",
   "execution_count": 65,
   "metadata": {},
   "outputs": [
    {
     "name": "stdout",
     "output_type": "stream",
     "text": [
      "[0 0]\n"
     ]
    }
   ],
   "source": [
    "payoff = np.array([[[3,2], [0,0]],\n",
    "                  [[0,0], [2,3]]])\n",
    "\n",
    "nfg = NormalFormGame(np.array([1,0]), np.array([0.6,0.4]), payoff)\n",
    "\n",
    "nfg.getEquillibria()\n",
    "\n",
    "print(nfg.simulateGame())"
   ]
  }
 ],
 "metadata": {
  "kernelspec": {
   "display_name": "Python 3",
   "language": "python",
   "name": "python3"
  },
  "language_info": {
   "codemirror_mode": {
    "name": "ipython",
    "version": 3
   },
   "file_extension": ".py",
   "mimetype": "text/x-python",
   "name": "python",
   "nbconvert_exporter": "python",
   "pygments_lexer": "ipython3",
   "version": "3.11.4"
  }
 },
 "nbformat": 4,
 "nbformat_minor": 2
}
